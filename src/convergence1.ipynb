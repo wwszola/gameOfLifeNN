{
 "cells": [
  {
   "cell_type": "code",
   "execution_count": null,
   "metadata": {},
   "outputs": [],
   "source": [
    "from model import build_model\n",
    "from dataset import random_uniform"
   ]
  },
  {
   "cell_type": "code",
   "execution_count": null,
   "metadata": {},
   "outputs": [],
   "source": [
    "import tensorflow as tf\n",
    "import keras"
   ]
  },
  {
   "cell_type": "code",
   "execution_count": null,
   "metadata": {},
   "outputs": [],
   "source": [
    "training_data_cardinality = 2**10\n",
    "training_data_seed = 2\n",
    "\n",
    "board_shape = (32, 32)\n",
    "overcompleteness = 2\n",
    "\n",
    "batch_size = 16\n",
    "epochs = 32\n",
    "n_instances = 32"
   ]
  },
  {
   "cell_type": "code",
   "execution_count": null,
   "metadata": {},
   "outputs": [],
   "source": [
    "ds = random_uniform(0.38, (training_data_cardinality, *board_shape), training_data_seed)\n",
    "ds = ds.batch(batch_size)"
   ]
  },
  {
   "cell_type": "code",
   "execution_count": null,
   "metadata": {},
   "outputs": [],
   "source": [
    "histories = []\n",
    "for i in range(n_instances):\n",
    "    print(f\"Starting {i}th instance...\")\n",
    "    optimizer = keras.optimizers.Adam(0.01)\n",
    "    model = build_model(board_shape, overcompleteness, i, optimizer)\n",
    "    early_stopping = keras.callbacks.EarlyStopping(monitor=\"loss\", patience=1, min_delta = 1e-6, verbose=1)\n",
    "    history = model.fit(\n",
    "        ds,\n",
    "        epochs = epochs,\n",
    "        callbacks = [early_stopping],\n",
    "    )\n",
    "    histories.append(history)"
   ]
  },
  {
   "cell_type": "code",
   "execution_count": null,
   "metadata": {},
   "outputs": [],
   "source": [
    "import matplotlib.pyplot as plt\n",
    "\n",
    "losses = [history.history['loss'] for history in histories]\n",
    "for i, loss in enumerate(losses):\n",
    "    plt.plot(loss)\n",
    "\n",
    "plt.title('Model Losses')\n",
    "plt.xlabel('Epoch')\n",
    "plt.ylabel('Loss')\n",
    "plt.grid(True)\n",
    "\n",
    "plt.show()"
   ]
  }
 ],
 "metadata": {
  "kernelspec": {
   "display_name": "venv",
   "language": "python",
   "name": "python3"
  },
  "language_info": {
   "codemirror_mode": {
    "name": "ipython",
    "version": 3
   },
   "file_extension": ".py",
   "mimetype": "text/x-python",
   "name": "python",
   "nbconvert_exporter": "python",
   "pygments_lexer": "ipython3",
   "version": "3.10.2"
  }
 },
 "nbformat": 4,
 "nbformat_minor": 2
}
